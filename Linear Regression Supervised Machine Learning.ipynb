{
 "cells": [
  {
   "cell_type": "markdown",
   "id": "2e315362",
   "metadata": {},
   "source": [
    "# Library "
   ]
  },
  {
   "cell_type": "code",
   "execution_count": 1,
   "id": "5ca06a42",
   "metadata": {},
   "outputs": [],
   "source": [
    "import numpy as np\n",
    "import pandas as pd\n",
    "import seaborn as sns\n",
    "import matplotlib.pyplot as plt\n",
    "from sklearn.model_selection import train_test_split\n",
    "from statsmodels.stats.outliers_influence import variance_inflation_factor as vif\n",
    "from statsmodels.tools.tools import add_constant\n",
    "from sklearn.metrics import mean_squared_error\n",
    "from sklearn.metrics import mean_absolute_error\n",
    "from sklearn.metrics import mean_absolute_percentage_error\n",
    "from sklearn.linear_model import Lasso\n",
    "from sklearn.linear_model import Ridge"
   ]
  },
  {
   "cell_type": "markdown",
   "id": "392514eb",
   "metadata": {},
   "source": [
    "# Data Input "
   ]
  },
  {
   "cell_type": "code",
   "execution_count": 2,
   "id": "d0cff07a",
   "metadata": {},
   "outputs": [
    {
     "data": {
      "text/html": [
       "<div>\n",
       "<style scoped>\n",
       "    .dataframe tbody tr th:only-of-type {\n",
       "        vertical-align: middle;\n",
       "    }\n",
       "\n",
       "    .dataframe tbody tr th {\n",
       "        vertical-align: top;\n",
       "    }\n",
       "\n",
       "    .dataframe thead th {\n",
       "        text-align: right;\n",
       "    }\n",
       "</style>\n",
       "<table border=\"1\" class=\"dataframe\">\n",
       "  <thead>\n",
       "    <tr style=\"text-align: right;\">\n",
       "      <th></th>\n",
       "      <th>crim</th>\n",
       "      <th>zn</th>\n",
       "      <th>indus</th>\n",
       "      <th>chas</th>\n",
       "      <th>nox</th>\n",
       "      <th>rm</th>\n",
       "      <th>age</th>\n",
       "      <th>dis</th>\n",
       "      <th>rad</th>\n",
       "      <th>tax</th>\n",
       "      <th>ptratio</th>\n",
       "      <th>black</th>\n",
       "      <th>lstat</th>\n",
       "      <th>medv</th>\n",
       "    </tr>\n",
       "  </thead>\n",
       "  <tbody>\n",
       "    <tr>\n",
       "      <th>0</th>\n",
       "      <td>0.00632</td>\n",
       "      <td>18.0</td>\n",
       "      <td>2.31</td>\n",
       "      <td>0</td>\n",
       "      <td>0.538</td>\n",
       "      <td>6.575</td>\n",
       "      <td>65.2</td>\n",
       "      <td>4.0900</td>\n",
       "      <td>1</td>\n",
       "      <td>296</td>\n",
       "      <td>15.3</td>\n",
       "      <td>396.90</td>\n",
       "      <td>4.98</td>\n",
       "      <td>24.0</td>\n",
       "    </tr>\n",
       "    <tr>\n",
       "      <th>1</th>\n",
       "      <td>0.02731</td>\n",
       "      <td>0.0</td>\n",
       "      <td>7.07</td>\n",
       "      <td>0</td>\n",
       "      <td>0.469</td>\n",
       "      <td>6.421</td>\n",
       "      <td>78.9</td>\n",
       "      <td>4.9671</td>\n",
       "      <td>2</td>\n",
       "      <td>242</td>\n",
       "      <td>17.8</td>\n",
       "      <td>396.90</td>\n",
       "      <td>9.14</td>\n",
       "      <td>21.6</td>\n",
       "    </tr>\n",
       "    <tr>\n",
       "      <th>2</th>\n",
       "      <td>0.02729</td>\n",
       "      <td>0.0</td>\n",
       "      <td>7.07</td>\n",
       "      <td>0</td>\n",
       "      <td>0.469</td>\n",
       "      <td>7.185</td>\n",
       "      <td>61.1</td>\n",
       "      <td>4.9671</td>\n",
       "      <td>2</td>\n",
       "      <td>242</td>\n",
       "      <td>17.8</td>\n",
       "      <td>392.83</td>\n",
       "      <td>4.03</td>\n",
       "      <td>34.7</td>\n",
       "    </tr>\n",
       "    <tr>\n",
       "      <th>3</th>\n",
       "      <td>0.03237</td>\n",
       "      <td>0.0</td>\n",
       "      <td>2.18</td>\n",
       "      <td>0</td>\n",
       "      <td>0.458</td>\n",
       "      <td>6.998</td>\n",
       "      <td>45.8</td>\n",
       "      <td>6.0622</td>\n",
       "      <td>3</td>\n",
       "      <td>222</td>\n",
       "      <td>18.7</td>\n",
       "      <td>394.63</td>\n",
       "      <td>2.94</td>\n",
       "      <td>33.4</td>\n",
       "    </tr>\n",
       "    <tr>\n",
       "      <th>4</th>\n",
       "      <td>0.06905</td>\n",
       "      <td>0.0</td>\n",
       "      <td>2.18</td>\n",
       "      <td>0</td>\n",
       "      <td>0.458</td>\n",
       "      <td>7.147</td>\n",
       "      <td>54.2</td>\n",
       "      <td>6.0622</td>\n",
       "      <td>3</td>\n",
       "      <td>222</td>\n",
       "      <td>18.7</td>\n",
       "      <td>396.90</td>\n",
       "      <td>5.33</td>\n",
       "      <td>36.2</td>\n",
       "    </tr>\n",
       "    <tr>\n",
       "      <th>...</th>\n",
       "      <td>...</td>\n",
       "      <td>...</td>\n",
       "      <td>...</td>\n",
       "      <td>...</td>\n",
       "      <td>...</td>\n",
       "      <td>...</td>\n",
       "      <td>...</td>\n",
       "      <td>...</td>\n",
       "      <td>...</td>\n",
       "      <td>...</td>\n",
       "      <td>...</td>\n",
       "      <td>...</td>\n",
       "      <td>...</td>\n",
       "      <td>...</td>\n",
       "    </tr>\n",
       "    <tr>\n",
       "      <th>501</th>\n",
       "      <td>0.06263</td>\n",
       "      <td>0.0</td>\n",
       "      <td>11.93</td>\n",
       "      <td>0</td>\n",
       "      <td>0.573</td>\n",
       "      <td>6.593</td>\n",
       "      <td>69.1</td>\n",
       "      <td>2.4786</td>\n",
       "      <td>1</td>\n",
       "      <td>273</td>\n",
       "      <td>21.0</td>\n",
       "      <td>391.99</td>\n",
       "      <td>9.67</td>\n",
       "      <td>22.4</td>\n",
       "    </tr>\n",
       "    <tr>\n",
       "      <th>502</th>\n",
       "      <td>0.04527</td>\n",
       "      <td>0.0</td>\n",
       "      <td>11.93</td>\n",
       "      <td>0</td>\n",
       "      <td>0.573</td>\n",
       "      <td>6.120</td>\n",
       "      <td>76.7</td>\n",
       "      <td>2.2875</td>\n",
       "      <td>1</td>\n",
       "      <td>273</td>\n",
       "      <td>21.0</td>\n",
       "      <td>396.90</td>\n",
       "      <td>9.08</td>\n",
       "      <td>20.6</td>\n",
       "    </tr>\n",
       "    <tr>\n",
       "      <th>503</th>\n",
       "      <td>0.06076</td>\n",
       "      <td>0.0</td>\n",
       "      <td>11.93</td>\n",
       "      <td>0</td>\n",
       "      <td>0.573</td>\n",
       "      <td>6.976</td>\n",
       "      <td>91.0</td>\n",
       "      <td>2.1675</td>\n",
       "      <td>1</td>\n",
       "      <td>273</td>\n",
       "      <td>21.0</td>\n",
       "      <td>396.90</td>\n",
       "      <td>5.64</td>\n",
       "      <td>23.9</td>\n",
       "    </tr>\n",
       "    <tr>\n",
       "      <th>504</th>\n",
       "      <td>0.10959</td>\n",
       "      <td>0.0</td>\n",
       "      <td>11.93</td>\n",
       "      <td>0</td>\n",
       "      <td>0.573</td>\n",
       "      <td>6.794</td>\n",
       "      <td>89.3</td>\n",
       "      <td>2.3889</td>\n",
       "      <td>1</td>\n",
       "      <td>273</td>\n",
       "      <td>21.0</td>\n",
       "      <td>393.45</td>\n",
       "      <td>6.48</td>\n",
       "      <td>22.0</td>\n",
       "    </tr>\n",
       "    <tr>\n",
       "      <th>505</th>\n",
       "      <td>0.04741</td>\n",
       "      <td>0.0</td>\n",
       "      <td>11.93</td>\n",
       "      <td>0</td>\n",
       "      <td>0.573</td>\n",
       "      <td>6.030</td>\n",
       "      <td>80.8</td>\n",
       "      <td>2.5050</td>\n",
       "      <td>1</td>\n",
       "      <td>273</td>\n",
       "      <td>21.0</td>\n",
       "      <td>396.90</td>\n",
       "      <td>7.88</td>\n",
       "      <td>11.9</td>\n",
       "    </tr>\n",
       "  </tbody>\n",
       "</table>\n",
       "<p>506 rows × 14 columns</p>\n",
       "</div>"
      ],
      "text/plain": [
       "        crim    zn  indus  chas    nox     rm   age     dis  rad  tax  \\\n",
       "0    0.00632  18.0   2.31     0  0.538  6.575  65.2  4.0900    1  296   \n",
       "1    0.02731   0.0   7.07     0  0.469  6.421  78.9  4.9671    2  242   \n",
       "2    0.02729   0.0   7.07     0  0.469  7.185  61.1  4.9671    2  242   \n",
       "3    0.03237   0.0   2.18     0  0.458  6.998  45.8  6.0622    3  222   \n",
       "4    0.06905   0.0   2.18     0  0.458  7.147  54.2  6.0622    3  222   \n",
       "..       ...   ...    ...   ...    ...    ...   ...     ...  ...  ...   \n",
       "501  0.06263   0.0  11.93     0  0.573  6.593  69.1  2.4786    1  273   \n",
       "502  0.04527   0.0  11.93     0  0.573  6.120  76.7  2.2875    1  273   \n",
       "503  0.06076   0.0  11.93     0  0.573  6.976  91.0  2.1675    1  273   \n",
       "504  0.10959   0.0  11.93     0  0.573  6.794  89.3  2.3889    1  273   \n",
       "505  0.04741   0.0  11.93     0  0.573  6.030  80.8  2.5050    1  273   \n",
       "\n",
       "     ptratio   black  lstat  medv  \n",
       "0       15.3  396.90   4.98  24.0  \n",
       "1       17.8  396.90   9.14  21.6  \n",
       "2       17.8  392.83   4.03  34.7  \n",
       "3       18.7  394.63   2.94  33.4  \n",
       "4       18.7  396.90   5.33  36.2  \n",
       "..       ...     ...    ...   ...  \n",
       "501     21.0  391.99   9.67  22.4  \n",
       "502     21.0  396.90   9.08  20.6  \n",
       "503     21.0  396.90   5.64  23.9  \n",
       "504     21.0  393.45   6.48  22.0  \n",
       "505     21.0  396.90   7.88  11.9  \n",
       "\n",
       "[506 rows x 14 columns]"
      ]
     },
     "execution_count": 2,
     "metadata": {},
     "output_type": "execute_result"
    }
   ],
   "source": [
    "df=pd.read_csv('https://raw.githubusercontent.com/pararawendy/dibimbing-materials/main/boston.csv')\n",
    "df"
   ]
  },
  {
   "cell_type": "markdown",
   "id": "54e3193d",
   "metadata": {},
   "source": [
    "# Instruction "
   ]
  },
  {
   "cell_type": "markdown",
   "id": "18fe866d",
   "metadata": {},
   "source": [
    "1. Split data: train - validate - test (point: 10)\n",
    "2. Draw correlation plot on training data and perform feature selection on \n",
    "highly correlated features (point: 10)\n",
    "3. Fit models on training data (lambdas = [0.01, 0.1, 1, 10]) (point:50)\n",
    "- Ridge regression (point: 25)\n",
    "- LASSO (point: 25)\n",
    "4. Choose the best lambda from the validation set (point: 20)\n",
    "- Use RMSE as metric\n",
    "- Interpret a sample of the coefficients of the best model\n",
    "    - Ridge regression\n",
    "    - LASSO\n",
    "5. Evaluate the best models on the test data (+ interpretation) (point: 10)\n",
    "- MAE\n",
    "- MAPE\n",
    "- RMSE"
   ]
  },
  {
   "cell_type": "markdown",
   "id": "fd6d861d",
   "metadata": {},
   "source": [
    "# Split Data "
   ]
  },
  {
   "cell_type": "code",
   "execution_count": 3,
   "id": "64c74067",
   "metadata": {},
   "outputs": [],
   "source": [
    "feature = df.drop(columns='medv')\n",
    "target = df[['medv']]\n",
    "\n",
    "feature_df_pretrain, feature_df_test, target_df_pretrain, target_df_test = train_test_split(\n",
    "    feature, target, test_size=0.20, random_state=42)\n",
    "feature_df_train, feature_df_validation, target_df_train, target_df_validation = train_test_split(\n",
    "    feature_df_pretrain, target_df_pretrain, test_size=0.20, random_state=42)"
   ]
  },
  {
   "cell_type": "markdown",
   "id": "619dee76",
   "metadata": {},
   "source": [
    "# Data Cleaning "
   ]
  },
  {
   "cell_type": "markdown",
   "id": "a14e097f",
   "metadata": {},
   "source": [
    "## Missing Value "
   ]
  },
  {
   "cell_type": "code",
   "execution_count": 6,
   "id": "c6eb55e9",
   "metadata": {},
   "outputs": [
    {
     "name": "stdout",
     "output_type": "stream",
     "text": [
      "<class 'pandas.core.frame.DataFrame'>\n",
      "RangeIndex: 506 entries, 0 to 505\n",
      "Data columns (total 14 columns):\n",
      " #   Column   Non-Null Count  Dtype  \n",
      "---  ------   --------------  -----  \n",
      " 0   crim     506 non-null    float64\n",
      " 1   zn       506 non-null    float64\n",
      " 2   indus    506 non-null    float64\n",
      " 3   chas     506 non-null    int64  \n",
      " 4   nox      506 non-null    float64\n",
      " 5   rm       506 non-null    float64\n",
      " 6   age      506 non-null    float64\n",
      " 7   dis      506 non-null    float64\n",
      " 8   rad      506 non-null    int64  \n",
      " 9   tax      506 non-null    int64  \n",
      " 10  ptratio  506 non-null    float64\n",
      " 11  black    506 non-null    float64\n",
      " 12  lstat    506 non-null    float64\n",
      " 13  medv     506 non-null    float64\n",
      "dtypes: float64(11), int64(3)\n",
      "memory usage: 55.5 KB\n"
     ]
    }
   ],
   "source": [
    "df.info()"
   ]
  },
  {
   "cell_type": "markdown",
   "id": "159f0102",
   "metadata": {},
   "source": [
    "## Duplicated Data "
   ]
  },
  {
   "cell_type": "code",
   "execution_count": 9,
   "id": "7ac4be3a",
   "metadata": {},
   "outputs": [
    {
     "data": {
      "text/plain": [
       "0"
      ]
     },
     "execution_count": 9,
     "metadata": {},
     "output_type": "execute_result"
    }
   ],
   "source": [
    "df.duplicated().sum()"
   ]
  },
  {
   "cell_type": "markdown",
   "id": "aab3cb18",
   "metadata": {},
   "source": [
    "# Check Correlation Data "
   ]
  },
  {
   "cell_type": "markdown",
   "id": "b46dc5e0",
   "metadata": {},
   "source": [
    "## VIF Score "
   ]
  },
  {
   "cell_type": "code",
   "execution_count": 4,
   "id": "b040cf2e",
   "metadata": {},
   "outputs": [
    {
     "data": {
      "text/html": [
       "<div>\n",
       "<style scoped>\n",
       "    .dataframe tbody tr th:only-of-type {\n",
       "        vertical-align: middle;\n",
       "    }\n",
       "\n",
       "    .dataframe tbody tr th {\n",
       "        vertical-align: top;\n",
       "    }\n",
       "\n",
       "    .dataframe thead th {\n",
       "        text-align: right;\n",
       "    }\n",
       "</style>\n",
       "<table border=\"1\" class=\"dataframe\">\n",
       "  <thead>\n",
       "    <tr style=\"text-align: right;\">\n",
       "      <th></th>\n",
       "      <th>features</th>\n",
       "      <th>vif_score</th>\n",
       "    </tr>\n",
       "  </thead>\n",
       "  <tbody>\n",
       "    <tr>\n",
       "      <th>1</th>\n",
       "      <td>crim</td>\n",
       "      <td>1.750939</td>\n",
       "    </tr>\n",
       "    <tr>\n",
       "      <th>2</th>\n",
       "      <td>zn</td>\n",
       "      <td>2.473421</td>\n",
       "    </tr>\n",
       "    <tr>\n",
       "      <th>3</th>\n",
       "      <td>indus</td>\n",
       "      <td>3.741988</td>\n",
       "    </tr>\n",
       "    <tr>\n",
       "      <th>4</th>\n",
       "      <td>chas</td>\n",
       "      <td>1.110042</td>\n",
       "    </tr>\n",
       "    <tr>\n",
       "      <th>5</th>\n",
       "      <td>nox</td>\n",
       "      <td>4.585650</td>\n",
       "    </tr>\n",
       "    <tr>\n",
       "      <th>6</th>\n",
       "      <td>rm</td>\n",
       "      <td>1.972174</td>\n",
       "    </tr>\n",
       "    <tr>\n",
       "      <th>7</th>\n",
       "      <td>age</td>\n",
       "      <td>3.127443</td>\n",
       "    </tr>\n",
       "    <tr>\n",
       "      <th>8</th>\n",
       "      <td>dis</td>\n",
       "      <td>4.390458</td>\n",
       "    </tr>\n",
       "    <tr>\n",
       "      <th>9</th>\n",
       "      <td>rad</td>\n",
       "      <td>7.182410</td>\n",
       "    </tr>\n",
       "    <tr>\n",
       "      <th>10</th>\n",
       "      <td>tax</td>\n",
       "      <td>8.268145</td>\n",
       "    </tr>\n",
       "    <tr>\n",
       "      <th>11</th>\n",
       "      <td>ptratio</td>\n",
       "      <td>1.854101</td>\n",
       "    </tr>\n",
       "    <tr>\n",
       "      <th>12</th>\n",
       "      <td>black</td>\n",
       "      <td>1.369229</td>\n",
       "    </tr>\n",
       "    <tr>\n",
       "      <th>13</th>\n",
       "      <td>lstat</td>\n",
       "      <td>3.020946</td>\n",
       "    </tr>\n",
       "  </tbody>\n",
       "</table>\n",
       "</div>"
      ],
      "text/plain": [
       "   features  vif_score\n",
       "1      crim   1.750939\n",
       "2        zn   2.473421\n",
       "3     indus   3.741988\n",
       "4      chas   1.110042\n",
       "5       nox   4.585650\n",
       "6        rm   1.972174\n",
       "7       age   3.127443\n",
       "8       dis   4.390458\n",
       "9       rad   7.182410\n",
       "10      tax   8.268145\n",
       "11  ptratio   1.854101\n",
       "12    black   1.369229\n",
       "13    lstat   3.020946"
      ]
     },
     "execution_count": 4,
     "metadata": {},
     "output_type": "execute_result"
    }
   ],
   "source": [
    "X = add_constant(feature_df_train)\n",
    "\n",
    "vif_df = pd.DataFrame([vif(X.values, i)\n",
    "                     for i in range(X.shape[1])],\n",
    "                     index = X.columns).reset_index()\n",
    "vif_df.columns = ['features', 'vif_score']\n",
    "vif_df = vif_df.loc[vif_df.features!='const']\n",
    "vif_df"
   ]
  },
  {
   "cell_type": "markdown",
   "id": "a6d625d4",
   "metadata": {},
   "source": [
    "There 4 features with high VIF Score:\n",
    "1. `nox` with 4.585 point\n",
    "2. `dis` with 4.390 point\n",
    "3. `rad` with 7.182 point\n",
    "4. `tax` with 8.268 point"
   ]
  },
  {
   "cell_type": "markdown",
   "id": "ca81d4c9",
   "metadata": {},
   "source": [
    "## HeatMap "
   ]
  },
  {
   "cell_type": "code",
   "execution_count": 5,
   "id": "f046b3a8",
   "metadata": {},
   "outputs": [
    {
     "data": {
      "image/png": "[encoded data removed]",
      "text/plain": [
       "<Figure size 720x504 with 2 Axes>"
      ]
     },
     "metadata": {
      "needs_background": "light"
     },
     "output_type": "display_data"
    }
   ],
   "source": [
    "df_train = pd.concat([feature_df_train, target_df_train], axis=1)\n",
    "corr = df_train.corr()\n",
    "\n",
    "plt.figure(figsize=(10,7))\n",
    "sns.heatmap(corr, annot=True, fmt='.2f')\n",
    "plt.show()"
   ]
  },
  {
   "cell_type": "markdown",
   "id": "71e614dd",
   "metadata": {},
   "source": [
    "Features in Cluster \n",
    "1. Cluster 1\n",
    "    - Dis ==> Nox -0.78\n",
    "    - Nox ==> Indus 0.76\n",
    "    - Indus ==> Dis -0.71\n",
    "2. Cluster 2 \n",
    "    - Rad <==> Tax 0.98"
   ]
  },
  {
   "cell_type": "markdown",
   "id": "b5829e1c",
   "metadata": {},
   "source": [
    "Note:\n",
    "- Including `Indus` feature in cluster 1 make a major impact on the VIF Score"
   ]
  },
  {
   "cell_type": "markdown",
   "id": "be77662b",
   "metadata": {},
   "source": [
    "Cluster correlation to Target\n",
    "- Cluster 1:\n",
    "    1. Nox to Medv -0.40\n",
    "    2. Dis to Medv 0.20\n",
    "    3. Indus to Medv -0.46\n",
    "- Cluster 2\n",
    "    1. Rad to Medv -0.39\n",
    "    2. Tax to Medv -0.46\n",
    "\n",
    "Observation:\n",
    "- Unfortunately in this Data, the highest correlation score is 0.98 and the second is >0.7 for the feature with a high VIF Score.\n",
    "- The highest correlation point is Tax and Indus, drop other cluster feature. \n",
    "- If not including Indus feature Dis will be drop."
   ]
  },
  {
   "cell_type": "markdown",
   "id": "7810f7a5",
   "metadata": {},
   "source": [
    "## Drop Redundant Feature "
   ]
  },
  {
   "cell_type": "markdown",
   "id": "ee86ea58",
   "metadata": {},
   "source": [
    "### Without indus"
   ]
  },
  {
   "cell_type": "code",
   "execution_count": 6,
   "id": "4fd739df",
   "metadata": {},
   "outputs": [],
   "source": [
    "feature_df_test = feature_df_test.drop(columns=['rad','dis']) \n",
    "feature_df_train = feature_df_train.drop(columns=['rad','dis'])\n",
    "feature_df_validation = feature_df_validation.drop(columns=['dis','rad'])"
   ]
  },
  {
   "cell_type": "code",
   "execution_count": 7,
   "id": "69422ad7",
   "metadata": {},
   "outputs": [
    {
     "data": {
      "text/html": [
       "<div>\n",
       "<style scoped>\n",
       "    .dataframe tbody tr th:only-of-type {\n",
       "        vertical-align: middle;\n",
       "    }\n",
       "\n",
       "    .dataframe tbody tr th {\n",
       "        vertical-align: top;\n",
       "    }\n",
       "\n",
       "    .dataframe thead th {\n",
       "        text-align: right;\n",
       "    }\n",
       "</style>\n",
       "<table border=\"1\" class=\"dataframe\">\n",
       "  <thead>\n",
       "    <tr style=\"text-align: right;\">\n",
       "      <th></th>\n",
       "      <th>features</th>\n",
       "      <th>vif_score</th>\n",
       "    </tr>\n",
       "  </thead>\n",
       "  <tbody>\n",
       "    <tr>\n",
       "      <th>1</th>\n",
       "      <td>crim</td>\n",
       "      <td>1.597096</td>\n",
       "    </tr>\n",
       "    <tr>\n",
       "      <th>2</th>\n",
       "      <td>zn</td>\n",
       "      <td>1.963389</td>\n",
       "    </tr>\n",
       "    <tr>\n",
       "      <th>3</th>\n",
       "      <td>indus</td>\n",
       "      <td>3.322304</td>\n",
       "    </tr>\n",
       "    <tr>\n",
       "      <th>4</th>\n",
       "      <td>chas</td>\n",
       "      <td>1.097962</td>\n",
       "    </tr>\n",
       "    <tr>\n",
       "      <th>5</th>\n",
       "      <td>nox</td>\n",
       "      <td>4.179655</td>\n",
       "    </tr>\n",
       "    <tr>\n",
       "      <th>6</th>\n",
       "      <td>rm</td>\n",
       "      <td>1.893609</td>\n",
       "    </tr>\n",
       "    <tr>\n",
       "      <th>7</th>\n",
       "      <td>age</td>\n",
       "      <td>2.805409</td>\n",
       "    </tr>\n",
       "    <tr>\n",
       "      <th>8</th>\n",
       "      <td>tax</td>\n",
       "      <td>3.185638</td>\n",
       "    </tr>\n",
       "    <tr>\n",
       "      <th>9</th>\n",
       "      <td>ptratio</td>\n",
       "      <td>1.787086</td>\n",
       "    </tr>\n",
       "    <tr>\n",
       "      <th>10</th>\n",
       "      <td>black</td>\n",
       "      <td>1.357444</td>\n",
       "    </tr>\n",
       "    <tr>\n",
       "      <th>11</th>\n",
       "      <td>lstat</td>\n",
       "      <td>2.986556</td>\n",
       "    </tr>\n",
       "  </tbody>\n",
       "</table>\n",
       "</div>"
      ],
      "text/plain": [
       "   features  vif_score\n",
       "1      crim   1.597096\n",
       "2        zn   1.963389\n",
       "3     indus   3.322304\n",
       "4      chas   1.097962\n",
       "5       nox   4.179655\n",
       "6        rm   1.893609\n",
       "7       age   2.805409\n",
       "8       tax   3.185638\n",
       "9   ptratio   1.787086\n",
       "10    black   1.357444\n",
       "11    lstat   2.986556"
      ]
     },
     "execution_count": 7,
     "metadata": {},
     "output_type": "execute_result"
    }
   ],
   "source": [
    "X = add_constant(feature_df_train)\n",
    "\n",
    "vif_df = pd.DataFrame([vif(X.values, i)\n",
    "                     for i in range(X.shape[1])],\n",
    "                     index = X.columns).reset_index()\n",
    "vif_df.columns = ['features', 'vif_score']\n",
    "vif_df = vif_df.loc[vif_df.features!='const']\n",
    "vif_df"
   ]
  },
  {
   "cell_type": "markdown",
   "id": "e41294f0",
   "metadata": {},
   "source": [
    "- Without droping nox as the result nox VIF Score still >4"
   ]
  },
  {
   "cell_type": "markdown",
   "id": "af792388",
   "metadata": {},
   "source": [
    "### With indus "
   ]
  },
  {
   "cell_type": "code",
   "execution_count": 8,
   "id": "61367ac5",
   "metadata": {},
   "outputs": [],
   "source": [
    "feature_df_test = feature_df_test.drop(columns=['nox']) \n",
    "feature_df_train = feature_df_train.drop(columns=['nox'])\n",
    "feature_df_validation = feature_df_validation.drop(columns=['nox'])"
   ]
  },
  {
   "cell_type": "code",
   "execution_count": 10,
   "id": "a966ee42",
   "metadata": {
    "scrolled": true
   },
   "outputs": [
    {
     "data": {
      "text/html": [
       "<div>\n",
       "<style scoped>\n",
       "    .dataframe tbody tr th:only-of-type {\n",
       "        vertical-align: middle;\n",
       "    }\n",
       "\n",
       "    .dataframe tbody tr th {\n",
       "        vertical-align: top;\n",
       "    }\n",
       "\n",
       "    .dataframe thead th {\n",
       "        text-align: right;\n",
       "    }\n",
       "</style>\n",
       "<table border=\"1\" class=\"dataframe\">\n",
       "  <thead>\n",
       "    <tr style=\"text-align: right;\">\n",
       "      <th></th>\n",
       "      <th>features</th>\n",
       "      <th>vif_score</th>\n",
       "    </tr>\n",
       "  </thead>\n",
       "  <tbody>\n",
       "    <tr>\n",
       "      <th>1</th>\n",
       "      <td>crim</td>\n",
       "      <td>1.596586</td>\n",
       "    </tr>\n",
       "    <tr>\n",
       "      <th>2</th>\n",
       "      <td>zn</td>\n",
       "      <td>1.832693</td>\n",
       "    </tr>\n",
       "    <tr>\n",
       "      <th>3</th>\n",
       "      <td>indus</td>\n",
       "      <td>2.970810</td>\n",
       "    </tr>\n",
       "    <tr>\n",
       "      <th>4</th>\n",
       "      <td>chas</td>\n",
       "      <td>1.078919</td>\n",
       "    </tr>\n",
       "    <tr>\n",
       "      <th>5</th>\n",
       "      <td>rm</td>\n",
       "      <td>1.891979</td>\n",
       "    </tr>\n",
       "    <tr>\n",
       "      <th>6</th>\n",
       "      <td>age</td>\n",
       "      <td>2.491050</td>\n",
       "    </tr>\n",
       "    <tr>\n",
       "      <th>7</th>\n",
       "      <td>tax</td>\n",
       "      <td>2.827854</td>\n",
       "    </tr>\n",
       "    <tr>\n",
       "      <th>8</th>\n",
       "      <td>ptratio</td>\n",
       "      <td>1.480472</td>\n",
       "    </tr>\n",
       "    <tr>\n",
       "      <th>9</th>\n",
       "      <td>black</td>\n",
       "      <td>1.346511</td>\n",
       "    </tr>\n",
       "    <tr>\n",
       "      <th>10</th>\n",
       "      <td>lstat</td>\n",
       "      <td>2.935815</td>\n",
       "    </tr>\n",
       "  </tbody>\n",
       "</table>\n",
       "</div>"
      ],
      "text/plain": [
       "   features  vif_score\n",
       "1      crim   1.596586\n",
       "2        zn   1.832693\n",
       "3     indus   2.970810\n",
       "4      chas   1.078919\n",
       "5        rm   1.891979\n",
       "6       age   2.491050\n",
       "7       tax   2.827854\n",
       "8   ptratio   1.480472\n",
       "9     black   1.346511\n",
       "10    lstat   2.935815"
      ]
     },
     "execution_count": 10,
     "metadata": {},
     "output_type": "execute_result"
    }
   ],
   "source": [
    "X = add_constant(feature_df_train)\n",
    "\n",
    "vif_df = pd.DataFrame([vif(X.values, i)\n",
    "                     for i in range(X.shape[1])],\n",
    "                     index = X.columns).reset_index()\n",
    "vif_df.columns = ['features', 'vif_score']\n",
    "vif_df = vif_df.loc[vif_df.features!='const']\n",
    "vif_df"
   ]
  },
  {
   "cell_type": "markdown",
   "id": "d5682b28",
   "metadata": {},
   "source": [
    "- After droping nox for including indus, indus VIF Score dicrease to 2.9 point\n",
    "- All VIF Scores on features do not exceed 3"
   ]
  },
  {
   "cell_type": "markdown",
   "id": "f896bdb0",
   "metadata": {},
   "source": [
    "# 3. Fit Models "
   ]
  },
  {
   "cell_type": "code",
   "execution_count": 34,
   "id": "06edb3e7",
   "metadata": {},
   "outputs": [],
   "source": [
    "# Convert to Numpy\n",
    "X_df_train = feature_df_train.to_numpy()\n",
    "y_df_train = target_df_train.to_numpy()\n",
    "y_df_train = y_df_train.reshape(len(y_df_train))"
   ]
  },
  {
   "cell_type": "markdown",
   "id": "43280606",
   "metadata": {},
   "source": [
    "## Ridge "
   ]
  },
  {
   "cell_type": "code",
   "execution_count": 35,
   "id": "b96384a3",
   "metadata": {},
   "outputs": [
    {
     "data": {
      "text/plain": [
       "Ridge(alpha=10, random_state=42)"
      ]
     },
     "execution_count": 35,
     "metadata": {},
     "output_type": "execute_result"
    }
   ],
   "source": [
    "# define the model\n",
    "ridge_reg_pointzeroone = Ridge(alpha=0.01, random_state=42)\n",
    "ridge_reg_pointone = Ridge(alpha=0.1, random_state=42)\n",
    "ridge_reg_one = Ridge(alpha=1, random_state=42)\n",
    "ridge_reg_ten = Ridge(alpha=10, random_state=42)\n",
    "\n",
    "# fit the model (training)\n",
    "ridge_reg_pointzeroone.fit(X_df_train, y_df_train)\n",
    "ridge_reg_pointone.fit(X_df_train, y_df_train)\n",
    "ridge_reg_one.fit(X_df_train, y_df_train)\n",
    "ridge_reg_ten.fit(X_df_train, y_df_train)"
   ]
  },
  {
   "cell_type": "markdown",
   "id": "251b8998",
   "metadata": {},
   "source": [
    "## Lasso "
   ]
  },
  {
   "cell_type": "code",
   "execution_count": 36,
   "id": "051608fb",
   "metadata": {},
   "outputs": [
    {
     "data": {
      "text/plain": [
       "Lasso(alpha=10, random_state=42)"
      ]
     },
     "execution_count": 36,
     "metadata": {},
     "output_type": "execute_result"
    }
   ],
   "source": [
    "# define the model\n",
    "lasso_reg_pointzeroone = Lasso(alpha=0.01, random_state=42)\n",
    "lasso_reg_pointone = Lasso(alpha=0.1, random_state=42)\n",
    "lasso_reg_one = Lasso(alpha=1, random_state=42)\n",
    "lasso_reg_ten = Lasso(alpha=10, random_state=42)\n",
    "\n",
    "# fit the model (training)\n",
    "lasso_reg_pointzeroone.fit(X_df_train, y_df_train)\n",
    "lasso_reg_pointone.fit(X_df_train, y_df_train)\n",
    "lasso_reg_one.fit(X_df_train, y_df_train)\n",
    "lasso_reg_ten.fit(X_df_train, y_df_train)"
   ]
  },
  {
   "cell_type": "markdown",
   "id": "19c44405",
   "metadata": {},
   "source": [
    "# 4. The Best Lambda "
   ]
  },
  {
   "cell_type": "code",
   "execution_count": 37,
   "id": "10d769e6",
   "metadata": {},
   "outputs": [],
   "source": [
    "# Convert to Numpy\n",
    "X_df_validation = feature_df_validation.to_numpy()\n",
    "y_df_validation = target_df_validation.to_numpy()\n",
    "y_df_validation = y_df_validation.reshape(len(y_df_validation))"
   ]
  },
  {
   "cell_type": "markdown",
   "id": "6dc25372",
   "metadata": {},
   "source": [
    "## RMSE Ridge "
   ]
  },
  {
   "cell_type": "code",
   "execution_count": 38,
   "id": "7e0185ca",
   "metadata": {},
   "outputs": [
    {
     "name": "stdout",
     "output_type": "stream",
     "text": [
      "RMSE of Ridge regression model with alpha = 0.01 is 5.100886202642037\n",
      "RMSE of Ridge regression model with alpha = 0.1 is 5.100288438419682\n",
      "RMSE of Ridge regression model with alpha = 1.0 is 5.094521787042944\n",
      "RMSE of Ridge regression model with alpha = 10 is 5.051662075103159\n"
     ]
    }
   ],
   "source": [
    "alphas = [0.01, 0.1, 1., 10]\n",
    "models = [ridge_reg_pointzeroone,\n",
    "          ridge_reg_pointone,\n",
    "          ridge_reg_one,\n",
    "          ridge_reg_ten]\n",
    "\n",
    "for model, alpha in zip(models, alphas):\n",
    "    y_predict_validation = model.predict(X_df_validation)\n",
    "    rmse = np.sqrt(mean_squared_error(y_df_validation,y_predict_validation))\n",
    "    print(f'RMSE of Ridge regression model with alpha = {alpha} is {rmse}')"
   ]
  },
  {
   "cell_type": "markdown",
   "id": "e7557d5d",
   "metadata": {},
   "source": [
    "Observation:\n",
    "- The best Lambda in Ridge Regression is 10 with RMSE point is 5.051 "
   ]
  },
  {
   "cell_type": "code",
   "execution_count": 39,
   "id": "76d58f80",
   "metadata": {},
   "outputs": [
    {
     "data": {
      "text/html": [
       "<div>\n",
       "<style scoped>\n",
       "    .dataframe tbody tr th:only-of-type {\n",
       "        vertical-align: middle;\n",
       "    }\n",
       "\n",
       "    .dataframe tbody tr th {\n",
       "        vertical-align: top;\n",
       "    }\n",
       "\n",
       "    .dataframe thead th {\n",
       "        text-align: right;\n",
       "    }\n",
       "</style>\n",
       "<table border=\"1\" class=\"dataframe\">\n",
       "  <thead>\n",
       "    <tr style=\"text-align: right;\">\n",
       "      <th></th>\n",
       "      <th>feature</th>\n",
       "      <th>coefficient</th>\n",
       "    </tr>\n",
       "  </thead>\n",
       "  <tbody>\n",
       "    <tr>\n",
       "      <th>0</th>\n",
       "      <td>intercept</td>\n",
       "      <td>7.068423</td>\n",
       "    </tr>\n",
       "    <tr>\n",
       "      <th>1</th>\n",
       "      <td>crim</td>\n",
       "      <td>-0.052216</td>\n",
       "    </tr>\n",
       "    <tr>\n",
       "      <th>2</th>\n",
       "      <td>zn</td>\n",
       "      <td>-0.007855</td>\n",
       "    </tr>\n",
       "    <tr>\n",
       "      <th>3</th>\n",
       "      <td>indus</td>\n",
       "      <td>0.034094</td>\n",
       "    </tr>\n",
       "    <tr>\n",
       "      <th>4</th>\n",
       "      <td>chas</td>\n",
       "      <td>2.061822</td>\n",
       "    </tr>\n",
       "    <tr>\n",
       "      <th>5</th>\n",
       "      <td>rm</td>\n",
       "      <td>5.041802</td>\n",
       "    </tr>\n",
       "    <tr>\n",
       "      <th>6</th>\n",
       "      <td>age</td>\n",
       "      <td>0.020313</td>\n",
       "    </tr>\n",
       "    <tr>\n",
       "      <th>7</th>\n",
       "      <td>tax</td>\n",
       "      <td>-0.000312</td>\n",
       "    </tr>\n",
       "    <tr>\n",
       "      <th>8</th>\n",
       "      <td>ptratio</td>\n",
       "      <td>-0.845843</td>\n",
       "    </tr>\n",
       "    <tr>\n",
       "      <th>9</th>\n",
       "      <td>black</td>\n",
       "      <td>0.012919</td>\n",
       "    </tr>\n",
       "    <tr>\n",
       "      <th>10</th>\n",
       "      <td>lstat</td>\n",
       "      <td>-0.540915</td>\n",
       "    </tr>\n",
       "  </tbody>\n",
       "</table>\n",
       "</div>"
      ],
      "text/plain": [
       "      feature  coefficient\n",
       "0   intercept     7.068423\n",
       "1        crim    -0.052216\n",
       "2          zn    -0.007855\n",
       "3       indus     0.034094\n",
       "4        chas     2.061822\n",
       "5          rm     5.041802\n",
       "6         age     0.020313\n",
       "7         tax    -0.000312\n",
       "8     ptratio    -0.845843\n",
       "9       black     0.012919\n",
       "10      lstat    -0.540915"
      ]
     },
     "execution_count": 39,
     "metadata": {},
     "output_type": "execute_result"
    }
   ],
   "source": [
    "ridge_best = ridge_reg_ten\n",
    "\n",
    "coef_df = pd.DataFrame({\n",
    "    'feature':['intercept'] + feature_df_train.columns.tolist(),\n",
    "    'coefficient':[ridge_best.intercept_] + list(ridge_best.coef_)\n",
    "})\n",
    "\n",
    "coef_df"
   ]
  },
  {
   "cell_type": "markdown",
   "id": "3ad220b4",
   "metadata": {},
   "source": [
    "Observation:\n",
    "- Every 1 point increase in Criminal Rate `crim` will reduce the house price by 0.052. \n",
    "- For every 1 room `rm` in the house, the price will increase by 5.041. "
   ]
  },
  {
   "cell_type": "markdown",
   "id": "325c77f8",
   "metadata": {},
   "source": [
    "## RMSE Lasso"
   ]
  },
  {
   "cell_type": "code",
   "execution_count": 40,
   "id": "039702e7",
   "metadata": {},
   "outputs": [
    {
     "name": "stdout",
     "output_type": "stream",
     "text": [
      "RMSE of Lasso regression model with alpha = 0.01 is 5.097514590498467\n",
      "RMSE of Lasso regression model with alpha = 0.1 is 5.08016984806439\n",
      "RMSE of Lasso regression model with alpha = 1.0 is 4.988309999786155\n",
      "RMSE of Lasso regression model with alpha = 10 is 5.426622694252769\n"
     ]
    }
   ],
   "source": [
    "models = [lasso_reg_pointzeroone,\n",
    "          lasso_reg_pointone,\n",
    "          lasso_reg_one,\n",
    "          lasso_reg_ten]\n",
    "\n",
    "for model, alpha in zip(models, alphas):\n",
    "    y_predict_validation = model.predict(X_df_validation)\n",
    "    rmse = np.sqrt(mean_squared_error(y_df_validation,y_predict_validation))\n",
    "    print(f'RMSE of Lasso regression model with alpha = {alpha} is {rmse}')"
   ]
  },
  {
   "cell_type": "markdown",
   "id": "31d6757a",
   "metadata": {},
   "source": [
    "Observation:\n",
    "- The Best Lambda in Lasso Regression is 1.0 with RMSE point is 4.988"
   ]
  },
  {
   "cell_type": "code",
   "execution_count": 41,
   "id": "697d5fec",
   "metadata": {},
   "outputs": [
    {
     "data": {
      "text/html": [
       "<div>\n",
       "<style scoped>\n",
       "    .dataframe tbody tr th:only-of-type {\n",
       "        vertical-align: middle;\n",
       "    }\n",
       "\n",
       "    .dataframe tbody tr th {\n",
       "        vertical-align: top;\n",
       "    }\n",
       "\n",
       "    .dataframe thead th {\n",
       "        text-align: right;\n",
       "    }\n",
       "</style>\n",
       "<table border=\"1\" class=\"dataframe\">\n",
       "  <thead>\n",
       "    <tr style=\"text-align: right;\">\n",
       "      <th></th>\n",
       "      <th>feature</th>\n",
       "      <th>coefficient</th>\n",
       "    </tr>\n",
       "  </thead>\n",
       "  <tbody>\n",
       "    <tr>\n",
       "      <th>0</th>\n",
       "      <td>intercept</td>\n",
       "      <td>22.945673</td>\n",
       "    </tr>\n",
       "    <tr>\n",
       "      <th>1</th>\n",
       "      <td>crim</td>\n",
       "      <td>-0.034953</td>\n",
       "    </tr>\n",
       "    <tr>\n",
       "      <th>2</th>\n",
       "      <td>zn</td>\n",
       "      <td>0.001941</td>\n",
       "    </tr>\n",
       "    <tr>\n",
       "      <th>3</th>\n",
       "      <td>indus</td>\n",
       "      <td>-0.000000</td>\n",
       "    </tr>\n",
       "    <tr>\n",
       "      <th>4</th>\n",
       "      <td>chas</td>\n",
       "      <td>0.000000</td>\n",
       "    </tr>\n",
       "    <tr>\n",
       "      <th>5</th>\n",
       "      <td>rm</td>\n",
       "      <td>2.572882</td>\n",
       "    </tr>\n",
       "    <tr>\n",
       "      <th>6</th>\n",
       "      <td>age</td>\n",
       "      <td>0.041419</td>\n",
       "    </tr>\n",
       "    <tr>\n",
       "      <th>7</th>\n",
       "      <td>tax</td>\n",
       "      <td>-0.001003</td>\n",
       "    </tr>\n",
       "    <tr>\n",
       "      <th>8</th>\n",
       "      <td>ptratio</td>\n",
       "      <td>-0.757735</td>\n",
       "    </tr>\n",
       "    <tr>\n",
       "      <th>9</th>\n",
       "      <td>black</td>\n",
       "      <td>0.011371</td>\n",
       "    </tr>\n",
       "    <tr>\n",
       "      <th>10</th>\n",
       "      <td>lstat</td>\n",
       "      <td>-0.713796</td>\n",
       "    </tr>\n",
       "  </tbody>\n",
       "</table>\n",
       "</div>"
      ],
      "text/plain": [
       "      feature  coefficient\n",
       "0   intercept    22.945673\n",
       "1        crim    -0.034953\n",
       "2          zn     0.001941\n",
       "3       indus    -0.000000\n",
       "4        chas     0.000000\n",
       "5          rm     2.572882\n",
       "6         age     0.041419\n",
       "7         tax    -0.001003\n",
       "8     ptratio    -0.757735\n",
       "9       black     0.011371\n",
       "10      lstat    -0.713796"
      ]
     },
     "execution_count": 41,
     "metadata": {},
     "output_type": "execute_result"
    }
   ],
   "source": [
    "lasso_best = lasso_reg_one\n",
    "\n",
    "coef_df = pd.DataFrame({\n",
    "    'feature':['intercept'] + feature_df_train.columns.tolist(),\n",
    "    'coefficient':[lasso_best.intercept_] + list(lasso_best.coef_)})\n",
    "\n",
    "coef_df"
   ]
  },
  {
   "cell_type": "markdown",
   "id": "57059e41",
   "metadata": {},
   "source": [
    "Observation:\n",
    "- When all value of features is 0, the expected price of the house is 22.94\n",
    "- Every 1 point increase in Residential Land will increase the house price by 0.001."
   ]
  },
  {
   "cell_type": "markdown",
   "id": "be34186c",
   "metadata": {},
   "source": [
    "### The Best Lambda between Ridge Regression and Lasso Regression is Lasso Regression with Lambda 1.0 and RMSE Point is 4.988"
   ]
  },
  {
   "cell_type": "markdown",
   "id": "e0dffbee",
   "metadata": {},
   "source": [
    "# 5. Evaluate the best models on the test data "
   ]
  },
  {
   "cell_type": "code",
   "execution_count": 42,
   "id": "424bc94d",
   "metadata": {},
   "outputs": [],
   "source": [
    "# prepare prediction result on test data\n",
    "X_df_test = feature_df_test.to_numpy()\n",
    "y_predict_test = lasso_best.predict(X_df_test)\n",
    "\n",
    "# ground truth target\n",
    "y_df_test = target_df_test.to_numpy()\n",
    "y_df_test = y_df_test.reshape(len(y_df_test))"
   ]
  },
  {
   "cell_type": "code",
   "execution_count": 43,
   "id": "598c9b5f",
   "metadata": {},
   "outputs": [
    {
     "name": "stdout",
     "output_type": "stream",
     "text": [
      "RMSE for testing data is 5.3156467257341\n",
      "MAE for testing data is 3.535684907677295\n",
      "MAPE for testing data is 0.18439385451147536\n"
     ]
    }
   ],
   "source": [
    "print('RMSE for testing data is {}'.format(np.sqrt(mean_squared_error(y_df_test, y_predict_test))))\n",
    "print('MAE for testing data is {}'.format(mean_absolute_error(y_df_test, y_predict_test)))\n",
    "print('MAPE for testing data is {}'.format(mean_absolute_percentage_error(y_df_test, y_predict_test)))"
   ]
  },
  {
   "cell_type": "markdown",
   "id": "aea4bc7e",
   "metadata": {},
   "source": [
    "Observation:\n",
    "- RMSE: The residual deviate between +-5.31. From range 5-50 this point is acceptable because +-10% from the range. \n",
    "- MAE: On average prediction deviates from the true price `medv` by 3.53.\n",
    "- MAPE: 18% deviation relative to the true price `medv` which means the model is tolerable for the data."
   ]
  },
  {
   "cell_type": "code",
   "execution_count": null,
   "id": "ce72b4de",
   "metadata": {},
   "outputs": [],
   "source": []
  }
 ],
 "metadata": {
  "kernelspec": {
   "display_name": "Python 3 (ipykernel)",
   "language": "python",
   "name": "python3"
  },
  "language_info": {
   "codemirror_mode": {
    "name": "ipython",
    "version": 3
   },
   "file_extension": ".py",
   "mimetype": "text/x-python",
   "name": "python",
   "nbconvert_exporter": "python",
   "pygments_lexer": "ipython3",
   "version": "3.9.12"
  }
 },
 "nbformat": 4,
 "nbformat_minor": 5
}
